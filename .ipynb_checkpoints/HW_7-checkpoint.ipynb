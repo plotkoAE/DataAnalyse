{
 "cells": [
  {
   "cell_type": "markdown",
   "id": "28c252be",
   "metadata": {},
   "source": [
    "## Тестирование функционала по определени размера кольца\n",
    "\n",
    "Вы аналитик в ювелирном интернет-магазине. \n",
    "Ваша команда проводит AБ-тест по внедрению функционала, который после клика на кнопку “Я не знаю размер” либо показывает калькулятор для подбора размера колец (А), либо просто таблицу размеров (Б). \n",
    "\n",
    "Допустим, вы смотрели на количество добавлений в корзину после использования этого функционала и на сумму товаров добавленных в корзину после использования этого функционала. \n",
    "\n",
    "- Какой вариант лучше? (10 - калькулятор, 90 - просто таблица размеров). \n",
    "- На что по вашему стоит опираться при выборе варианта? \n",
    "- Есть ли значимые различия между ними?\n",
    "\n",
    "\n",
    "![jupyter](./1.png)\n",
    "![jupyter](./2.png)\n",
    "![jupyter](./3.png)\n"
   ]
  },
  {
   "cell_type": "markdown",
   "id": "4273a355",
   "metadata": {},
   "source": [
    "## 1 Формулировка гипотезы\n"
   ]
  },
  {
   "cell_type": "markdown",
   "id": "946ac4a4",
   "metadata": {},
   "source": [
    "Сформулируем нулевую и альтернативную гипотезы.\n",
    "Определим статистики, которые будем использовать для анализа. \n",
    "\n",
    "- H(0): μ(addA) = μ(addB) среднее добавленных в корзину товаров в варианте А равно среднему добавленных в корзину товаров в варианте В. \n",
    " \n",
    "- H(1): μ(addA) < μ(addB) среднее добавленных в корзину товаров в варианте А меньше среднего добавленных в корзину товаров в варианте В. \n",
    "\n",
    "У нас получилась правосторонняя направленная альтернативная гипотеза. \n"
   ]
  },
  {
   "cell_type": "markdown",
   "id": "59bb217b",
   "metadata": {},
   "source": [
    "## 2 Описательные статистики по группам\n",
    "У нас уже есть выборка из 50-ти наблюдений. \n",
    "\n",
    "Загрузим ее и рассмотрим основные статистики. "
   ]
  },
  {
   "cell_type": "code",
   "execution_count": 106,
   "id": "dedf3fd3",
   "metadata": {},
   "outputs": [],
   "source": [
    "import numpy as np\n",
    "import pandas as pd\n",
    "import matplotlib.pyplot as plt"
   ]
  },
  {
   "cell_type": "code",
   "execution_count": 22,
   "id": "6c46ff0b",
   "metadata": {},
   "outputs": [
    {
     "data": {
      "text/html": [
       "<div>\n",
       "<style scoped>\n",
       "    .dataframe tbody tr th:only-of-type {\n",
       "        vertical-align: middle;\n",
       "    }\n",
       "\n",
       "    .dataframe tbody tr th {\n",
       "        vertical-align: top;\n",
       "    }\n",
       "\n",
       "    .dataframe thead th {\n",
       "        text-align: right;\n",
       "    }\n",
       "</style>\n",
       "<table border=\"1\" class=\"dataframe\">\n",
       "  <thead>\n",
       "    <tr style=\"text-align: right;\">\n",
       "      <th></th>\n",
       "      <th>date</th>\n",
       "      <th>Variant</th>\n",
       "      <th>cnt(addToCart)</th>\n",
       "      <th>sum(addToCartItems)</th>\n",
       "    </tr>\n",
       "  </thead>\n",
       "  <tbody>\n",
       "    <tr>\n",
       "      <th>0</th>\n",
       "      <td>2019-09-01</td>\n",
       "      <td>90</td>\n",
       "      <td>56</td>\n",
       "      <td>110247</td>\n",
       "    </tr>\n",
       "    <tr>\n",
       "      <th>1</th>\n",
       "      <td>2019-09-01</td>\n",
       "      <td>10</td>\n",
       "      <td>52</td>\n",
       "      <td>163098</td>\n",
       "    </tr>\n",
       "    <tr>\n",
       "      <th>2</th>\n",
       "      <td>2019-09-02</td>\n",
       "      <td>10</td>\n",
       "      <td>59</td>\n",
       "      <td>93317</td>\n",
       "    </tr>\n",
       "    <tr>\n",
       "      <th>3</th>\n",
       "      <td>2019-09-02</td>\n",
       "      <td>90</td>\n",
       "      <td>56</td>\n",
       "      <td>26457</td>\n",
       "    </tr>\n",
       "    <tr>\n",
       "      <th>4</th>\n",
       "      <td>2019-09-03</td>\n",
       "      <td>90</td>\n",
       "      <td>54</td>\n",
       "      <td>56418</td>\n",
       "    </tr>\n",
       "  </tbody>\n",
       "</table>\n",
       "</div>"
      ],
      "text/plain": [
       "        date  Variant  cnt(addToCart)  sum(addToCartItems)\n",
       "0 2019-09-01       90              56               110247\n",
       "1 2019-09-01       10              52               163098\n",
       "2 2019-09-02       10              59                93317\n",
       "3 2019-09-02       90              56                26457\n",
       "4 2019-09-03       90              54                56418"
      ]
     },
     "execution_count": 22,
     "metadata": {},
     "output_type": "execute_result"
    }
   ],
   "source": [
    "df_jewelry = pd.read_excel('Ювелирный магазин, данные.xlsx')\n",
    "df_jewelry.head()"
   ]
  },
  {
   "cell_type": "code",
   "execution_count": 23,
   "id": "03fbb296",
   "metadata": {},
   "outputs": [],
   "source": [
    "# переименовываем колонки для удобства\n",
    "df_jewelry.rename(\n",
    "    columns = {\n",
    "        'Variant':'variant', \n",
    "        'cnt(addToCart)':'count_jew', \n",
    "        'sum(addToCartItems)':'cost_jew'\n",
    "    }, inplace = True)"
   ]
  },
  {
   "cell_type": "code",
   "execution_count": 26,
   "id": "32c5bdc1",
   "metadata": {},
   "outputs": [
    {
     "data": {
      "text/html": [
       "<div>\n",
       "<style scoped>\n",
       "    .dataframe tbody tr th:only-of-type {\n",
       "        vertical-align: middle;\n",
       "    }\n",
       "\n",
       "    .dataframe tbody tr th {\n",
       "        vertical-align: top;\n",
       "    }\n",
       "\n",
       "    .dataframe thead th {\n",
       "        text-align: right;\n",
       "    }\n",
       "</style>\n",
       "<table border=\"1\" class=\"dataframe\">\n",
       "  <thead>\n",
       "    <tr style=\"text-align: right;\">\n",
       "      <th></th>\n",
       "      <th>date</th>\n",
       "      <th>variant</th>\n",
       "      <th>count_jew</th>\n",
       "      <th>cost_jew</th>\n",
       "    </tr>\n",
       "  </thead>\n",
       "  <tbody>\n",
       "    <tr>\n",
       "      <th>0</th>\n",
       "      <td>2019-09-01</td>\n",
       "      <td>90</td>\n",
       "      <td>56</td>\n",
       "      <td>110247</td>\n",
       "    </tr>\n",
       "    <tr>\n",
       "      <th>1</th>\n",
       "      <td>2019-09-01</td>\n",
       "      <td>10</td>\n",
       "      <td>52</td>\n",
       "      <td>163098</td>\n",
       "    </tr>\n",
       "    <tr>\n",
       "      <th>2</th>\n",
       "      <td>2019-09-02</td>\n",
       "      <td>10</td>\n",
       "      <td>59</td>\n",
       "      <td>93317</td>\n",
       "    </tr>\n",
       "    <tr>\n",
       "      <th>3</th>\n",
       "      <td>2019-09-02</td>\n",
       "      <td>90</td>\n",
       "      <td>56</td>\n",
       "      <td>26457</td>\n",
       "    </tr>\n",
       "    <tr>\n",
       "      <th>4</th>\n",
       "      <td>2019-09-03</td>\n",
       "      <td>90</td>\n",
       "      <td>54</td>\n",
       "      <td>56418</td>\n",
       "    </tr>\n",
       "  </tbody>\n",
       "</table>\n",
       "</div>"
      ],
      "text/plain": [
       "        date  variant  count_jew  cost_jew\n",
       "0 2019-09-01       90         56    110247\n",
       "1 2019-09-01       10         52    163098\n",
       "2 2019-09-02       10         59     93317\n",
       "3 2019-09-02       90         56     26457\n",
       "4 2019-09-03       90         54     56418"
      ]
     },
     "execution_count": 26,
     "metadata": {},
     "output_type": "execute_result"
    }
   ],
   "source": [
    "df_jewelry.head()"
   ]
  },
  {
   "cell_type": "code",
   "execution_count": 25,
   "id": "892bc512",
   "metadata": {},
   "outputs": [
    {
     "data": {
      "text/html": [
       "<div>\n",
       "<style scoped>\n",
       "    .dataframe tbody tr th:only-of-type {\n",
       "        vertical-align: middle;\n",
       "    }\n",
       "\n",
       "    .dataframe tbody tr th {\n",
       "        vertical-align: top;\n",
       "    }\n",
       "\n",
       "    .dataframe thead th {\n",
       "        text-align: right;\n",
       "    }\n",
       "</style>\n",
       "<table border=\"1\" class=\"dataframe\">\n",
       "  <thead>\n",
       "    <tr style=\"text-align: right;\">\n",
       "      <th></th>\n",
       "      <th>count</th>\n",
       "      <th>mean</th>\n",
       "      <th>std</th>\n",
       "      <th>min</th>\n",
       "      <th>25%</th>\n",
       "      <th>50%</th>\n",
       "      <th>75%</th>\n",
       "      <th>max</th>\n",
       "    </tr>\n",
       "    <tr>\n",
       "      <th>variant</th>\n",
       "      <th></th>\n",
       "      <th></th>\n",
       "      <th></th>\n",
       "      <th></th>\n",
       "      <th></th>\n",
       "      <th></th>\n",
       "      <th></th>\n",
       "      <th></th>\n",
       "    </tr>\n",
       "  </thead>\n",
       "  <tbody>\n",
       "    <tr>\n",
       "      <th>10</th>\n",
       "      <td>25.0</td>\n",
       "      <td>47.8</td>\n",
       "      <td>26.843683</td>\n",
       "      <td>12.0</td>\n",
       "      <td>39.0</td>\n",
       "      <td>44.0</td>\n",
       "      <td>52.0</td>\n",
       "      <td>156.0</td>\n",
       "    </tr>\n",
       "    <tr>\n",
       "      <th>90</th>\n",
       "      <td>25.0</td>\n",
       "      <td>47.2</td>\n",
       "      <td>17.036725</td>\n",
       "      <td>20.0</td>\n",
       "      <td>36.0</td>\n",
       "      <td>46.0</td>\n",
       "      <td>56.0</td>\n",
       "      <td>90.0</td>\n",
       "    </tr>\n",
       "  </tbody>\n",
       "</table>\n",
       "</div>"
      ],
      "text/plain": [
       "         count  mean        std   min   25%   50%   75%    max\n",
       "variant                                                       \n",
       "10        25.0  47.8  26.843683  12.0  39.0  44.0  52.0  156.0\n",
       "90        25.0  47.2  17.036725  20.0  36.0  46.0  56.0   90.0"
      ]
     },
     "execution_count": 25,
     "metadata": {},
     "output_type": "execute_result"
    }
   ],
   "source": [
    "df_jewelry.groupby('variant').count_jew.describe()"
   ]
  },
  {
   "cell_type": "code",
   "execution_count": 27,
   "id": "331bd416",
   "metadata": {},
   "outputs": [
    {
     "data": {
      "text/html": [
       "<div>\n",
       "<style scoped>\n",
       "    .dataframe tbody tr th:only-of-type {\n",
       "        vertical-align: middle;\n",
       "    }\n",
       "\n",
       "    .dataframe tbody tr th {\n",
       "        vertical-align: top;\n",
       "    }\n",
       "\n",
       "    .dataframe thead th {\n",
       "        text-align: right;\n",
       "    }\n",
       "</style>\n",
       "<table border=\"1\" class=\"dataframe\">\n",
       "  <thead>\n",
       "    <tr style=\"text-align: right;\">\n",
       "      <th></th>\n",
       "      <th>count</th>\n",
       "      <th>mean</th>\n",
       "      <th>std</th>\n",
       "      <th>min</th>\n",
       "      <th>25%</th>\n",
       "      <th>50%</th>\n",
       "      <th>75%</th>\n",
       "      <th>max</th>\n",
       "    </tr>\n",
       "    <tr>\n",
       "      <th>variant</th>\n",
       "      <th></th>\n",
       "      <th></th>\n",
       "      <th></th>\n",
       "      <th></th>\n",
       "      <th></th>\n",
       "      <th></th>\n",
       "      <th></th>\n",
       "      <th></th>\n",
       "    </tr>\n",
       "  </thead>\n",
       "  <tbody>\n",
       "    <tr>\n",
       "      <th>10</th>\n",
       "      <td>25.0</td>\n",
       "      <td>38352.88</td>\n",
       "      <td>33448.994095</td>\n",
       "      <td>7048.0</td>\n",
       "      <td>18025.0</td>\n",
       "      <td>32306.0</td>\n",
       "      <td>42514.0</td>\n",
       "      <td>163098.0</td>\n",
       "    </tr>\n",
       "    <tr>\n",
       "      <th>90</th>\n",
       "      <td>25.0</td>\n",
       "      <td>40602.12</td>\n",
       "      <td>57678.076016</td>\n",
       "      <td>5191.0</td>\n",
       "      <td>16466.0</td>\n",
       "      <td>22530.0</td>\n",
       "      <td>32116.0</td>\n",
       "      <td>286956.0</td>\n",
       "    </tr>\n",
       "  </tbody>\n",
       "</table>\n",
       "</div>"
      ],
      "text/plain": [
       "         count      mean           std     min      25%      50%      75%  \\\n",
       "variant                                                                     \n",
       "10        25.0  38352.88  33448.994095  7048.0  18025.0  32306.0  42514.0   \n",
       "90        25.0  40602.12  57678.076016  5191.0  16466.0  22530.0  32116.0   \n",
       "\n",
       "              max  \n",
       "variant            \n",
       "10       163098.0  \n",
       "90       286956.0  "
      ]
     },
     "execution_count": 27,
     "metadata": {},
     "output_type": "execute_result"
    }
   ],
   "source": [
    "df_jewelry.groupby('variant').cost_jew.describe()"
   ]
  },
  {
   "cell_type": "markdown",
   "id": "f0df55b2",
   "metadata": {},
   "source": [
    "Мы видим, что средние значения в двух вариантах у нас не сильно отличаются. А вот максимальные очень разные. И если кол-во товаров в корзине в варианте B намного меньше чем в варианте А, то стоимость товаров наоборот намного выше. \n",
    " \n",
    "Оценив, данные статистики, мы не можем принять нулевую гипотезу. Хотя видим, что средние значения отличаются незначительно. \n",
    "Необходимо провести исследование, чтобы измерить статистическую значимость отличий. \n",
    "\n",
    "Разброс значений очень большой, стандартное отклонение тоже, чтобы не ошибиться в выводах, будем использовать метод бутстрепа, который позволяет оценивать распределение средних значений близкое к нормальному согласно ЦПТ. "
   ]
  },
  {
   "cell_type": "markdown",
   "id": "2f5285ca",
   "metadata": {},
   "source": [
    "## 3 Исслеование влияния способа определения размера на кол-во заказов в корзине (бутстреп, p-value)"
   ]
  },
  {
   "cell_type": "code",
   "execution_count": 77,
   "id": "17811a19",
   "metadata": {},
   "outputs": [
    {
     "data": {
      "text/plain": [
       "-0.5999999999999943"
      ]
     },
     "execution_count": 77,
     "metadata": {},
     "output_type": "execute_result"
    }
   ],
   "source": [
    "# сформируем выборки по группам А и В\n",
    "# найдем разницу средних значений кол-ва товаров в корзине\n",
    "a_count = df_jewelry.query('variant == 10').count_jew\n",
    "b_count = df_jewelry.query('variant == 90').count_jew\n",
    "a_len = len(a_count)\n",
    "b_len = len(b_count)\n",
    "N = 1000\n",
    "\n",
    "real_diff = np.mean(b_count) - np.mean(a_count)\n",
    "real_diff"
   ]
  },
  {
   "cell_type": "code",
   "execution_count": 107,
   "id": "8da77a3a",
   "metadata": {},
   "outputs": [],
   "source": [
    "# реализуем бутстреп \n",
    "np.random.seed(19680801)\n",
    "\n",
    "diff_mean = np.array(np.zeros(N))\n",
    "for i in range(0, len(diff_mean)):\n",
    "    samp_a = np.random.choice(a_count, size=a_len)\n",
    "    samp_b = np.random.choice(b_count, size=b_len)\n",
    "    diff_mean[i] = np.mean(samp_b) - np.mean(samp_a)"
   ]
  },
  {
   "cell_type": "code",
   "execution_count": 82,
   "id": "c277f7e3",
   "metadata": {},
   "outputs": [
    {
     "data": {
      "text/plain": [
       "0.517"
      ]
     },
     "execution_count": 82,
     "metadata": {},
     "output_type": "execute_result"
    }
   ],
   "source": [
    "# найдем p_value (в нашем случае - это доля разниц средних, которые выше значения разницы средних реальной выборки)\n",
    "p_value = sum(diff_mean >= real_diff) / N\n",
    "p_value"
   ]
  },
  {
   "cell_type": "code",
   "execution_count": 86,
   "id": "688c1d57",
   "metadata": {},
   "outputs": [
    {
     "data": {
      "text/plain": [
       "Text(0.5, 1.0, 'Распределение разниц средних значений')"
      ]
     },
     "execution_count": 86,
     "metadata": {},
     "output_type": "execute_result"
    },
    {
     "data": {
      "image/png": "[encoded data removed]",
      "text/plain": [
       "<Figure size 640x480 with 1 Axes>"
      ]
     },
     "metadata": {},
     "output_type": "display_data"
    }
   ],
   "source": [
    "# построим гистограмму распределения разниц средних значений\n",
    "plt.hist(diff_mean, color = 'skyblue')\n",
    "plt.axvline(p_value, color = 'g', linestyle = '--')\n",
    "plt.title('Распределение разниц средних значений')"
   ]
  },
  {
   "cell_type": "markdown",
   "id": "1caf426d",
   "metadata": {},
   "source": [
    "### Вывод\n",
    "Если нулевая гипотеза верна, то вероятность того, что при случайном извлечении контрольной и тестовой выборок мы получим разницу средних равную  -0.6 или больше, равна 0.517\n",
    "\n",
    "Это значит, что на уровне значимости 5% мы подтверждаем нулевую гипотезу на текущих данных.\n",
    "\n",
    "**Содержательный вывод: Разница в способе определения размера кольца (калькулятор, таблица размеров) не влияет на решение клиента добавлять или не добавлять товар в корзину.**"
   ]
  },
  {
   "cell_type": "markdown",
   "id": "d7524a0e",
   "metadata": {},
   "source": [
    "## 4 Сравнение распределения средних значений и доверительных интервалов\n",
    "Оценка p-value показала, что разницы в способе определения размера для принятия решения клиентом нет. \n",
    "Проверим, подтвердит ли этот вывод, сравнение распределения средних и пересечение доверительных интервалов. "
   ]
  },
  {
   "cell_type": "code",
   "execution_count": 88,
   "id": "c7598971",
   "metadata": {},
   "outputs": [],
   "source": [
    "# в цикле сформируем выборки для нахождения средних\n",
    "\n",
    "a_means = np.array(np.zeros(N))\n",
    "b_means = np.array(np.zeros(N))\n",
    "\n",
    "np.random.seed(19956909)\n",
    "for i in range(0, len(diff_mean)):\n",
    "    a_sample = np.random.choice(a_count, size=a_len)\n",
    "    b_sample = np.random.choice(b_count, size=b_len)\n",
    "    a_means[i] = np.mean(a_sample)\n",
    "    b_means[i] = np.mean(b_sample)"
   ]
  },
  {
   "cell_type": "code",
   "execution_count": 127,
   "id": "311e358f",
   "metadata": {},
   "outputs": [
    {
     "data": {
      "image/png": "[encoded data removed]",
      "text/plain": [
       "<Figure size 640x480 with 1 Axes>"
      ]
     },
     "metadata": {},
     "output_type": "display_data"
    }
   ],
   "source": [
    "# построим график распределения средних и доверительные интервалы\n",
    "plt.hist(a_means, alpha=0.5, label='A-калькулятор')\n",
    "\n",
    "plt.axvline(np.percentile(a_means, 2.5), linestyle='--')\n",
    "plt.axvline(np.percentile(a_means, 97.5), linestyle='--')\n",
    "\n",
    "plt.hist(b_means, alpha=0.5, label='В-таблица размеров')\n",
    "\n",
    "plt.axvline(np.percentile(b_means, 2.5), linestyle='--', color='orange')\n",
    "plt.axvline(np.percentile(b_means, 97.5), linestyle='--', color='orange')\n",
    "\n",
    "plt.title('Распределение среднего кол-ва товаров в корзине по группам')\n",
    "plt.xlabel('Среднее кол-во')\n",
    "plt.legend()\n",
    "plt.show()"
   ]
  },
  {
   "cell_type": "markdown",
   "id": "8f3cdc4d",
   "metadata": {},
   "source": [
    "### Вывод\n",
    "\n",
    "Распределение средних также показало, что статистических значимых изменений в кол-ве товаров в корзине между группами нет. Доверительный интервал группы В (таблица размеров) входит в доверительный интервал группы А (калькулятор). Соответственно доверительный интервал группы А включает истинное значение среднего группы В\n",
    "\n",
    "Наше исследование показало, что статистически значимых изменений в кол-ве товаров в корзине нет. Но, возможно, в группах есть статистически значимая разница в стоимости товаров. Исследуем это далее. "
   ]
  },
  {
   "cell_type": "markdown",
   "id": "99204691",
   "metadata": {},
   "source": [
    "## 5 Влияние способа определения размера кольца на сумму товаров в корзине"
   ]
  },
  {
   "cell_type": "code",
   "execution_count": 105,
   "id": "27e20fac",
   "metadata": {},
   "outputs": [],
   "source": [
    "# подготовим данные из датафрейма\n",
    "a_cost = df_jewelry.query('variant == 10').cost_jew\n",
    "b_cost = df_jewelry.query('variant == 90').cost_jew\n",
    "\n",
    "len_a = len(a_cost)\n",
    "len_b = len(b_cost)"
   ]
  },
  {
   "cell_type": "code",
   "execution_count": 112,
   "id": "a4403a1f",
   "metadata": {},
   "outputs": [],
   "source": [
    "# сформируем выборки средних сумм в корзине\n",
    "a_means_cost = np.array(np.zeros(N))\n",
    "b_means_cost = np.array(np.zeros(N))\n",
    "\n",
    "np.random.seed(19956797)\n",
    "for i in range(0, N):\n",
    "    a_sample = np.random.choice(a_cost, size=len_a)\n",
    "    b_sample = np.random.choice(b_cost, size=len_b)\n",
    "    a_means_cost[i] = np.mean(a_sample)\n",
    "    b_means_cost[i] = np.mean(b_sample)\n"
   ]
  },
  {
   "cell_type": "code",
   "execution_count": 120,
   "id": "0b83db4b",
   "metadata": {},
   "outputs": [
    {
     "data": {
      "text/plain": [
       "<matplotlib.legend.Legend at 0x7fe3ce232c70>"
      ]
     },
     "execution_count": 120,
     "metadata": {},
     "output_type": "execute_result"
    },
    {
     "data": {
      "image/png": "[encoded data removed]",
      "text/plain": [
       "<Figure size 640x480 with 1 Axes>"
      ]
     },
     "metadata": {},
     "output_type": "display_data"
    }
   ],
   "source": [
    "# построим график распределения средних сумм товаров в корзине\n",
    "plt.hist(a_means_cost, alpha=0.5, label='A-калькулятор')\n",
    "plt.axvline(np.percentile(a_means_cost, 2.5), linestyle = '--')\n",
    "plt.axvline(np.percentile(a_means_cost, 97.5), linestyle = '--')\n",
    "\n",
    "plt.hist(b_means_cost, alpha=0.5, label='B-таблица размеров')\n",
    "plt.axvline(np.percentile(b_means_cost, 2.5), linestyle = '--', color = 'orange')\n",
    "plt.axvline(np.percentile(b_means_cost, 97.5), linestyle = '--', color = 'orange')\n",
    "\n",
    "plt.legend()"
   ]
  },
  {
   "cell_type": "markdown",
   "id": "d47c2079",
   "metadata": {},
   "source": [
    "### Вывод \n",
    "Мы также видим, что распределение средних сумм пересекаются и истинные значения средних входят в доверительные интервалы групп. \n",
    "\n",
    "Это значит, что статистически значимых изменений в сумме товаров в корзине в зависимости от способа определения размера кольца нет. \n",
    "\n",
    "**Содержательный вывод: Разница в способе определения размера кольца не влияет на сумму товаров в корзине клиента**"
   ]
  },
  {
   "cell_type": "markdown",
   "id": "276d7175",
   "metadata": {},
   "source": [
    "### Ответы на вопросы задания\n",
    "\n",
    "1. *Какой вариант лучше? (10 - калькулятор, 90 - просто таблица размеров)*\n",
    "\n",
    "В результате исследования мы определили, что значимой разницы между вариантами нет\n",
    "\n",
    "\n",
    "2. *На что по вашему стоит опираться при выборе варианта?*\n",
    "\n",
    "В исследовании мы опирались на кол-во товаров и сумму товаров в корзине покупателя в зависимости от способа определения размера кольца. \n",
    "Но у нас нет информации о том, насколько релевантна выборка, в нее включены только покупатели, которые добавляли в корзину кольца?\n",
    "\n",
    "По-моему мнению, стоит сделaть следующее:\n",
    "- взять в контрольную и тестовую группы только тех клиентов, кто выбирал кольца; \n",
    "- сравнить конверсию от просмотра изделия в покупку в зависимости от способа определения размера кольца\n",
    "    (почему в покупку, а не просто в добавление в корзину? Потому наша итоговая цель продать изделия);\n",
    "- если у нас небольшой магазин и покупок не так много, чтобы быстро накопить данные для исследования, то тогда можно проанализировать конверсию от просмотра в добавление в корзину. Процент купивших можно тогда определить с учетом общей средней конверсии от добавления в корзину в покупку. \n",
    "    \n",
    "    \n",
    "3. *Есть ли значимые различия между ними?*\n",
    "\n",
    "В нашем исследовании мы не нашли значимых различий между вариантами."
   ]
  }
 ],
 "metadata": {
  "kernelspec": {
   "display_name": "Python 3 (ipykernel)",
   "language": "python",
   "name": "python3"
  },
  "language_info": {
   "codemirror_mode": {
    "name": "ipython",
    "version": 3
   },
   "file_extension": ".py",
   "mimetype": "text/x-python",
   "name": "python",
   "nbconvert_exporter": "python",
   "pygments_lexer": "ipython3",
   "version": "3.9.13"
  }
 },
 "nbformat": 4,
 "nbformat_minor": 5
}
